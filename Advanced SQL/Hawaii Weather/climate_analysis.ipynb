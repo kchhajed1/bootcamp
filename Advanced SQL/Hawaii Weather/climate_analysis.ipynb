{
 "cells": [
  {
   "cell_type": "code",
   "execution_count": 242,
   "metadata": {
    "collapsed": true
   },
   "outputs": [],
   "source": [
    "#import pandas\n",
    "import pandas as pd\n",
    "\n",
    "#import matplotlib\n",
    "import matplotlib.pyplot as plt\n",
    "import datetime as dt\n",
    "\n",
    "\n",
    "# import sqlalchemy\n",
    "import sqlalchemy\n",
    "\n",
    "# Imports the method used for connecting to DBs\n",
    "from sqlalchemy import create_engine\n",
    "\n",
    "# Imports the methods needed to abstract classes into tables\n",
    "from sqlalchemy.ext.declarative import declarative_base\n",
    "\n",
    "# Allow us to declare column types\n",
    "from sqlalchemy import Column, Integer, String, Float, Date\n",
    "\n",
    "\n",
    "from sqlalchemy.ext.automap import automap_base\n",
    "\n",
    "from sqlalchemy.orm import Session\n",
    "\n",
    "from sqlalchemy import create_engine, inspect\n",
    "\n",
    "from sqlalchemy import func"
   ]
  },
  {
   "cell_type": "code",
   "execution_count": 243,
   "metadata": {
    "collapsed": true
   },
   "outputs": [],
   "source": [
    "# Create engine using the `hawaii.sqlite` database file\n",
    "engine = create_engine(\"sqlite:///hawaii.sqlite\")"
   ]
  },
  {
   "cell_type": "code",
   "execution_count": 244,
   "metadata": {
    "collapsed": true
   },
   "outputs": [],
   "source": [
    "# inspector to view table value\n",
    "inspector = inspect(engine)"
   ]
  },
  {
   "cell_type": "code",
   "execution_count": 245,
   "metadata": {
    "collapsed": true
   },
   "outputs": [],
   "source": [
    "# Declare a Base using `automap_base()`\n",
    "Base = automap_base()"
   ]
  },
  {
   "cell_type": "code",
   "execution_count": 246,
   "metadata": {
    "collapsed": true
   },
   "outputs": [],
   "source": [
    "# Use the Base class to reflect the database tables\n",
    "Base.prepare(engine, reflect=True)"
   ]
  },
  {
   "cell_type": "code",
   "execution_count": 247,
   "metadata": {},
   "outputs": [
    {
     "data": {
      "text/plain": [
       "['measurement', 'station']"
      ]
     },
     "execution_count": 247,
     "metadata": {},
     "output_type": "execute_result"
    }
   ],
   "source": [
    "# Print all of the classes mapped to the Base\n",
    "Base.classes.keys()"
   ]
  },
  {
   "cell_type": "code",
   "execution_count": 248,
   "metadata": {
    "collapsed": true
   },
   "outputs": [],
   "source": [
    "# Assign the measurement class to a variable called `Measurement`\n",
    "Measurement = Base.classes.measurement\n",
    "\n",
    "# Assign the station class to a variable called `Station`\n",
    "Station = Base.classes.station"
   ]
  },
  {
   "cell_type": "code",
   "execution_count": 249,
   "metadata": {},
   "outputs": [
    {
     "name": "stdout",
     "output_type": "stream",
     "text": [
      "id INTEGER\n",
      "station VARCHAR(50)\n",
      "date VARCHAR(10)\n",
      "prcp FLOAT\n",
      "tobs FLOAT\n"
     ]
    }
   ],
   "source": [
    "columns = inspector.get_columns('Measurement')\n",
    "\n",
    "for column in columns:\n",
    "    print (column['name'],column['type'])"
   ]
  },
  {
   "cell_type": "code",
   "execution_count": 250,
   "metadata": {},
   "outputs": [
    {
     "name": "stdout",
     "output_type": "stream",
     "text": [
      "id INTEGER\n",
      "station VARCHAR(50)\n",
      "name VARCHAR(50)\n",
      "latitude FLOAT\n",
      "longitude FLOAT\n",
      "elevation FLOAT\n"
     ]
    }
   ],
   "source": [
    "columns = inspector.get_columns('Station')\n",
    "\n",
    "for column in columns:\n",
    "    print (column['name'],column['type'])"
   ]
  },
  {
   "cell_type": "code",
   "execution_count": 251,
   "metadata": {
    "collapsed": true
   },
   "outputs": [],
   "source": [
    "# Create a session\n",
    "session = Session(engine)"
   ]
  },
  {
   "cell_type": "code",
   "execution_count": 252,
   "metadata": {},
   "outputs": [
    {
     "name": "stdout",
     "output_type": "stream",
     "text": [
      "2017-04-23\n"
     ]
    }
   ],
   "source": [
    "compare_date = dt.date.today() - dt.timedelta(days = 365)\n",
    "print (compare_date)"
   ]
  },
  {
   "cell_type": "markdown",
   "metadata": {},
   "source": [
    "### Precipitation Analysis\n",
    "\n",
    "##### Design a query to retrieve the last 12 months of precipitation data.\n",
    "##### Select only the date and prcp values.\n",
    "##### Load the query results into a Pandas DataFrame and set the index to the date column.\n",
    "##### Plot the results using the DataFrame plot method."
   ]
  },
  {
   "cell_type": "code",
   "execution_count": 253,
   "metadata": {
    "scrolled": false
   },
   "outputs": [
    {
     "data": {
      "text/html": [
       "<div>\n",
       "<style>\n",
       "    .dataframe thead tr:only-child th {\n",
       "        text-align: right;\n",
       "    }\n",
       "\n",
       "    .dataframe thead th {\n",
       "        text-align: left;\n",
       "    }\n",
       "\n",
       "    .dataframe tbody tr th {\n",
       "        vertical-align: top;\n",
       "    }\n",
       "</style>\n",
       "<table border=\"1\" class=\"dataframe\">\n",
       "  <thead>\n",
       "    <tr style=\"text-align: right;\">\n",
       "      <th></th>\n",
       "      <th>date</th>\n",
       "      <th>precipitation</th>\n",
       "    </tr>\n",
       "  </thead>\n",
       "  <tbody>\n",
       "    <tr>\n",
       "      <th>0</th>\n",
       "      <td>2017-04-23</td>\n",
       "      <td>0.03</td>\n",
       "    </tr>\n",
       "    <tr>\n",
       "      <th>1</th>\n",
       "      <td>2017-04-23</td>\n",
       "      <td>0.02</td>\n",
       "    </tr>\n",
       "    <tr>\n",
       "      <th>2</th>\n",
       "      <td>2017-04-23</td>\n",
       "      <td>0.06</td>\n",
       "    </tr>\n",
       "    <tr>\n",
       "      <th>3</th>\n",
       "      <td>2017-04-23</td>\n",
       "      <td>0.35</td>\n",
       "    </tr>\n",
       "    <tr>\n",
       "      <th>4</th>\n",
       "      <td>2017-04-24</td>\n",
       "      <td>0.00</td>\n",
       "    </tr>\n",
       "  </tbody>\n",
       "</table>\n",
       "</div>"
      ],
      "text/plain": [
       "         date  precipitation\n",
       "0  2017-04-23           0.03\n",
       "1  2017-04-23           0.02\n",
       "2  2017-04-23           0.06\n",
       "3  2017-04-23           0.35\n",
       "4  2017-04-24           0.00"
      ]
     },
     "execution_count": 253,
     "metadata": {},
     "output_type": "execute_result"
    }
   ],
   "source": [
    "precipitation_list = []\n",
    "date_list = []\n",
    "\n",
    "sel = [Measurement.date, \n",
    "       Measurement.prcp\n",
    "       ]\n",
    "\n",
    "precipitation_analysis = session.query(*sel).filter((Measurement.date >= compare_date) \n",
    "                                      ).order_by(Measurement.date).all()\n",
    "\n",
    "for row in precipitation_analysis:\n",
    "    date_list.append(row[0])\n",
    "    precipitation_list.append(row[1])\n",
    "\n",
    "precipitation_analysis_df = pd.DataFrame({\"precipitation\":precipitation_list,\n",
    "                                       \"date\":date_list})\n",
    "\n",
    "precipitation_analysis_df.head()"
   ]
  },
  {
   "cell_type": "code",
   "execution_count": 254,
   "metadata": {},
   "outputs": [
    {
     "data": {
      "image/png": "[encoded data removed]",
      "text/plain": [
       "<matplotlib.figure.Figure at 0x19d333d5b38>"
      ]
     },
     "metadata": {},
     "output_type": "display_data"
    }
   ],
   "source": [
    "plt.figure(figsize = (10, 7))\n",
    "plt.subplot()\n",
    "plt.bar(precipitation_analysis_df[\"date\"], precipitation_analysis_df[\"precipitation\"], label = \"Precipitation\")\n",
    "#ax.set_xticks(precipitation_analysis_df[\"date\"])\n",
    "\n",
    "plt.legend()\n",
    "plt.ylabel(\"Precipitation Inches\")\n",
    "plt.xlabel(\"Date\")\n",
    "plt.show()"
   ]
  },
  {
   "cell_type": "markdown",
   "metadata": {},
   "source": [
    "### Station Analysis"
   ]
  },
  {
   "cell_type": "code",
   "execution_count": 255,
   "metadata": {},
   "outputs": [
    {
     "name": "stdout",
     "output_type": "stream",
     "text": [
      "The total nbr of sations are 9\n"
     ]
    }
   ],
   "source": [
    "#Design a query to calculate the total number of stations.\n",
    "\n",
    "total_number_of_stations = session.query(Station).count()\n",
    "print (f\"The total nbr of sations are {total_number_of_stations}\")"
   ]
  },
  {
   "cell_type": "code",
   "execution_count": 256,
   "metadata": {},
   "outputs": [
    {
     "name": "stdout",
     "output_type": "stream",
     "text": [
      "('USC00519281', 2772)\n",
      "('USC00513117', 2696)\n",
      "('USC00519397', 2685)\n",
      "('USC00519523', 2572)\n",
      "('USC00516128', 2484)\n",
      "('USC00514830', 1937)\n",
      "('USC00511918', 1932)\n",
      "('USC00517948', 683)\n",
      "('USC00518838', 342)\n"
     ]
    },
    {
     "name": "stderr",
     "output_type": "stream",
     "text": [
      "C:\\Users\\kisho\\Anaconda3\\envs\\pythondata\\lib\\site-packages\\sqlalchemy\\sql\\compiler.py:624: SAWarning: Can't resolve label reference 'Total DESC'; converting to text() (this warning may be suppressed after 10 occurrences)\n",
      "  util.ellipses_string(element.element))\n"
     ]
    }
   ],
   "source": [
    "#List the stations and observation counts in descending order.\n",
    "station_observation = session.query(Measurement.station, func.count(Measurement.station).label('Total')\n",
    "                                    ).group_by(Measurement.station).order_by('Total DESC')\n",
    "for row in station_observation:\n",
    "    print (row)"
   ]
  },
  {
   "cell_type": "code",
   "execution_count": 257,
   "metadata": {},
   "outputs": [
    {
     "name": "stdout",
     "output_type": "stream",
     "text": [
      "The station USC00519281 has the highest nbr of observation count: 2772\n",
      " \n"
     ]
    },
    {
     "name": "stderr",
     "output_type": "stream",
     "text": [
      "C:\\Users\\kisho\\Anaconda3\\envs\\pythondata\\lib\\site-packages\\sqlalchemy\\sql\\compiler.py:624: SAWarning: Can't resolve label reference 'Total DESC'; converting to text() (this warning may be suppressed after 10 occurrences)\n",
      "  util.ellipses_string(element.element))\n"
     ]
    }
   ],
   "source": [
    "#Which station has the highest number of observations?\n",
    "print(f\"The station {station_observation[0][0]} has the highest nbr of observation count: {station_observation[0][1]}\")\n",
    "print(\" \")"
   ]
  },
  {
   "cell_type": "code",
   "execution_count": 258,
   "metadata": {
    "scrolled": true
   },
   "outputs": [
    {
     "name": "stdout",
     "output_type": "stream",
     "text": [
      " \n"
     ]
    },
    {
     "name": "stderr",
     "output_type": "stream",
     "text": [
      "C:\\Users\\kisho\\Anaconda3\\envs\\pythondata\\lib\\site-packages\\sqlalchemy\\sql\\compiler.py:624: SAWarning: Can't resolve label reference 'Total DESC'; converting to text() (this warning may be suppressed after 10 occurrences)\n",
      "  util.ellipses_string(element.element))\n"
     ]
    }
   ],
   "source": [
    "# Design a query to retrieve the last 12 months of temperature observation data (tobs).\n",
    "        # Filter by the station with the highest number of observations.\n",
    "        # Plot the results as a histogram with bins = 12.\n",
    "temp_list = []\n",
    "date_list= []\n",
    "\n",
    "sel =   [Measurement.tobs,\n",
    "        Measurement.date\n",
    "        ]\n",
    "\n",
    "station_with_highest_observation = session.query(*sel).filter(\n",
    "    (Measurement.date >=  compare_date) & (Measurement.station == \n",
    "                                           station_observation[0][0])).all()\n",
    "\n",
    "for row in station_with_highest_observation:\n",
    "    temp_list.append(row[0])\n",
    "    date_list.append(row[1])\n",
    "\n",
    "tobs_for_station_df = pd.DataFrame({\"Temperature\":temp_list,\n",
    "                                                   \"date\":date_list\n",
    "                                                   })\n",
    "\n",
    "tobs_for_station_df.head()\n",
    "print(\" \")"
   ]
  },
  {
   "cell_type": "code",
   "execution_count": 259,
   "metadata": {},
   "outputs": [
    {
     "name": "stderr",
     "output_type": "stream",
     "text": [
      "C:\\Users\\kisho\\Anaconda3\\envs\\pythondata\\lib\\site-packages\\sqlalchemy\\sql\\compiler.py:624: SAWarning: Can't resolve label reference 'Total DESC'; converting to text() (this warning may be suppressed after 10 occurrences)\n",
      "  util.ellipses_string(element.element))\n"
     ]
    },
    {
     "data": {
      "image/png": "[encoded data removed]",
      "text/plain": [
       "<matplotlib.figure.Figure at 0x19d32cb40b8>"
      ]
     },
     "metadata": {},
     "output_type": "display_data"
    },
    {
     "name": "stdout",
     "output_type": "stream",
     "text": [
      " \n"
     ]
    }
   ],
   "source": [
    "plt.hist(tobs_for_station_df[\"Temperature\"],\n",
    "         bins = 12, label = \"tobs\")\n",
    "plt.ylabel(\"Frequency\")\n",
    "plt.xlabel(f\"TOBs for the station: {station_observation[0][0]} for 12 months \")\n",
    "plt.legend()\n",
    "plt.grid()\n",
    "plt.show()\n",
    "print(\" \")"
   ]
  },
  {
   "cell_type": "markdown",
   "metadata": {},
   "source": [
    "#### Temperature Analysis\n",
    "\n",
    "\n",
    "Write a function called calc_temps that will accept a start date and end date in the format %Y-%m-%d and return the minimum, average, and maximum temperatures for that range of dates.\n",
    "Use the calc_temps function to calculate the min, avg, and max temperatures for your trip using the matching dates from the previous year (i.e. use \"2017-01-01\" if your trip start date was \"2018-01-01\")\n",
    "\n",
    "Plot the min, avg, and max temperature from your previous query as a bar chart.\n",
    "\n",
    "\n",
    "Use the average temperature as the bar height.\n",
    "Use the peak-to-peak (tmax-tmin) value as the y error bar (yerr)."
   ]
  },
  {
   "cell_type": "code",
   "execution_count": 260,
   "metadata": {},
   "outputs": [
    {
     "name": "stdout",
     "output_type": "stream",
     "text": [
      "Minimum Temperature: 69.0\n",
      "Average Temperature: 77.1\n",
      "Maximum Temperature: 82.0\n"
     ]
    }
   ],
   "source": [
    "def calc_temps (start_date, end_date):\n",
    "    sel =[func.min(Measurement.tobs),\n",
    "          func.avg(Measurement.tobs),\n",
    "          func.max(Measurement.tobs),\n",
    "         ]\n",
    "    \n",
    "    temperature_values = session.query(*sel).filter((Measurement.date >= start_date) & (Measurement.date <= end_date)).all()\n",
    "    return temperature_values\n",
    "\n",
    "trip_start_date = '2017-05-27'\n",
    "trip_end_date = '2017-06-10'\n",
    "trip_temperature_values = calc_temps(trip_start_date, trip_end_date)\n",
    "\n",
    "min_temp = trip_temperature_values[0][0]\n",
    "avg_temp = round(trip_temperature_values[0][1],1)\n",
    "max_temp = trip_temperature_values[0][2]\n",
    "\n",
    "print(f\"Minimum Temperature: {min_temp}\" )\n",
    "print(f\"Average Temperature: {avg_temp}\" )\n",
    "print(f\"Maximum Temperature: {max_temp}\" )"
   ]
  },
  {
   "cell_type": "code",
   "execution_count": 261,
   "metadata": {},
   "outputs": [
    {
     "data": {
      "image/png": "[encoded data removed]",
      "text/plain": [
       "<matplotlib.figure.Figure at 0x19d332e7b00>"
      ]
     },
     "metadata": {},
     "output_type": "display_data"
    }
   ],
   "source": [
    "# This is looking at the average temperature\n",
    "ax = plt.subplot()\n",
    "\n",
    "ax.bar(range(1), avg_temp,width=0.35, yerr = [max_temp - min_temp])\n",
    "ax.set_xticks(range(1))\n",
    "ax.set_xticklabels([\"Average Temperature\"])\n",
    "plt.ylabel(\"Temperature (F)\")\n",
    "plt.show()"
   ]
  },
  {
   "cell_type": "markdown",
   "metadata": {},
   "source": [
    "### Optional Recommended Analysis\n",
    "\n",
    "    Calcualte the rainfall per weather station using the previous year's matching dates."
   ]
  },
  {
   "cell_type": "code",
   "execution_count": 262,
   "metadata": {
    "scrolled": false
   },
   "outputs": [],
   "source": [
    "sel = [Measurement.prcp, Measurement.station]\n",
    "rainfall_per_weather_station = session.query(*sel).filter((Measurement.date >= start_date) & (Measurement.date <= end_date)).all()\n"
   ]
  },
  {
   "cell_type": "markdown",
   "metadata": {},
   "source": [
    "\n",
    "\n",
    "### Calculate the daily normals. Normals are the averages for min, avg, and max temperatures.\n",
    "\n",
    "    Create a function called daily_normals that will calculate the daily normals for a specific date. This date string will be in the format %m-%d. Be sure to use all historic tobs that match that date string.\n",
    "\n",
    "    Create a list of dates for your trip in the format %m-%d. Use the daily_normals function to calculate the normals for each date string and append the results to a list.\n",
    "    \n",
    "    Load the list of daily normals into a Pandas DataFrame and set the index equal to the date.\n",
    "\n",
    "    Use Pandas to plot an area plot (stacked=False) for the daily normals."
   ]
  },
  {
   "cell_type": "code",
   "execution_count": 263,
   "metadata": {},
   "outputs": [
    {
     "name": "stdout",
     "output_type": "stream",
     "text": [
      "[75.19, 75.08, 74.52, 74.52, 75.81, 75.59, 74.88, 75.1, 74.13, 75.62, 74.03]\n"
     ]
    },
    {
     "data": {
      "text/html": [
       "<div>\n",
       "<style>\n",
       "    .dataframe thead tr:only-child th {\n",
       "        text-align: right;\n",
       "    }\n",
       "\n",
       "    .dataframe thead th {\n",
       "        text-align: left;\n",
       "    }\n",
       "\n",
       "    .dataframe tbody tr th {\n",
       "        vertical-align: top;\n",
       "    }\n",
       "</style>\n",
       "<table border=\"1\" class=\"dataframe\">\n",
       "  <thead>\n",
       "    <tr style=\"text-align: right;\">\n",
       "      <th></th>\n",
       "      <th>daily_avg</th>\n",
       "      <th>daily_max</th>\n",
       "      <th>daily_min</th>\n",
       "      <th>normal_temp</th>\n",
       "    </tr>\n",
       "    <tr>\n",
       "      <th>date</th>\n",
       "      <th></th>\n",
       "      <th></th>\n",
       "      <th></th>\n",
       "      <th></th>\n",
       "    </tr>\n",
       "  </thead>\n",
       "  <tbody>\n",
       "    <tr>\n",
       "      <th>06-15</th>\n",
       "      <td>75.57</td>\n",
       "      <td>81.0</td>\n",
       "      <td>69.0</td>\n",
       "      <td>75.19</td>\n",
       "    </tr>\n",
       "    <tr>\n",
       "      <th>06-16</th>\n",
       "      <td>75.24</td>\n",
       "      <td>81.0</td>\n",
       "      <td>69.0</td>\n",
       "      <td>75.08</td>\n",
       "    </tr>\n",
       "    <tr>\n",
       "      <th>06-17</th>\n",
       "      <td>74.57</td>\n",
       "      <td>81.0</td>\n",
       "      <td>68.0</td>\n",
       "      <td>74.52</td>\n",
       "    </tr>\n",
       "    <tr>\n",
       "      <th>06-18</th>\n",
       "      <td>74.57</td>\n",
       "      <td>80.0</td>\n",
       "      <td>69.0</td>\n",
       "      <td>74.52</td>\n",
       "    </tr>\n",
       "    <tr>\n",
       "      <th>06-19</th>\n",
       "      <td>75.42</td>\n",
       "      <td>82.0</td>\n",
       "      <td>70.0</td>\n",
       "      <td>75.81</td>\n",
       "    </tr>\n",
       "    <tr>\n",
       "      <th>06-20</th>\n",
       "      <td>73.78</td>\n",
       "      <td>85.0</td>\n",
       "      <td>68.0</td>\n",
       "      <td>75.59</td>\n",
       "    </tr>\n",
       "    <tr>\n",
       "      <th>06-21</th>\n",
       "      <td>74.64</td>\n",
       "      <td>82.0</td>\n",
       "      <td>68.0</td>\n",
       "      <td>74.88</td>\n",
       "    </tr>\n",
       "    <tr>\n",
       "      <th>06-22</th>\n",
       "      <td>75.31</td>\n",
       "      <td>81.0</td>\n",
       "      <td>69.0</td>\n",
       "      <td>75.10</td>\n",
       "    </tr>\n",
       "    <tr>\n",
       "      <th>06-23</th>\n",
       "      <td>74.39</td>\n",
       "      <td>80.0</td>\n",
       "      <td>68.0</td>\n",
       "      <td>74.13</td>\n",
       "    </tr>\n",
       "    <tr>\n",
       "      <th>06-24</th>\n",
       "      <td>74.85</td>\n",
       "      <td>84.0</td>\n",
       "      <td>68.0</td>\n",
       "      <td>75.62</td>\n",
       "    </tr>\n",
       "    <tr>\n",
       "      <th>06-25</th>\n",
       "      <td>74.08</td>\n",
       "      <td>80.0</td>\n",
       "      <td>68.0</td>\n",
       "      <td>74.03</td>\n",
       "    </tr>\n",
       "  </tbody>\n",
       "</table>\n",
       "</div>"
      ],
      "text/plain": [
       "       daily_avg  daily_max  daily_min  normal_temp\n",
       "date                                               \n",
       "06-15      75.57       81.0       69.0        75.19\n",
       "06-16      75.24       81.0       69.0        75.08\n",
       "06-17      74.57       81.0       68.0        74.52\n",
       "06-18      74.57       80.0       69.0        74.52\n",
       "06-19      75.42       82.0       70.0        75.81\n",
       "06-20      73.78       85.0       68.0        75.59\n",
       "06-21      74.64       82.0       68.0        74.88\n",
       "06-22      75.31       81.0       69.0        75.10\n",
       "06-23      74.39       80.0       68.0        74.13\n",
       "06-24      74.85       84.0       68.0        75.62\n",
       "06-25      74.08       80.0       68.0        74.03"
      ]
     },
     "execution_count": 263,
     "metadata": {},
     "output_type": "execute_result"
    }
   ],
   "source": [
    "def daily_normals(input_date_mmdd):\n",
    "    sel = [func.min(Measurement.tobs),\n",
    "           func.max(Measurement.tobs),\n",
    "           func.avg(Measurement.tobs)\n",
    "          ]\n",
    "    \n",
    "    temp_values = session.query(*sel).filter(Measurement.date.contains(input_date_mmdd)).all()\n",
    "    \n",
    "    \n",
    "    daily_min = temp_values[0][0]\n",
    "    daily_max = temp_values[0][1]\n",
    "    daily_avg = round(temp_values[0][2],2)\n",
    "    daily_normal = round((temp_values[0][0] + temp_values[0][1] + temp_values[0][2]) / 3,2)\n",
    "    \n",
    "    return daily_normal,daily_min,daily_max,daily_avg\n",
    "\n",
    "trip_list_date = [\"06-15\",\"06-16\",\"06-17\",\"06-18\",\"06-19\",\"06-20\",\"06-21\",\"06-22\",\"06-23\",\"06-24\",\"06-25\"]\n",
    "\n",
    "trip_daily_normal_temperature = []\n",
    "trip_daily_min_temperature = []\n",
    "trip_daily_max_temperature = []\n",
    "trip_daily_avg_temperature = []\n",
    "\n",
    "for trip_date in trip_list_date:\n",
    "    daily_normal,daily_min,daily_max,daily_avg = daily_normals(trip_date)\n",
    "    trip_daily_normal_temperature.append(daily_normal)\n",
    "    trip_daily_min_temperature.append(daily_min)\n",
    "    trip_daily_max_temperature.append(daily_max)\n",
    "    trip_daily_avg_temperature.append(daily_avg)\n",
    "\n",
    "print(trip_daily_normal_temperature)\n",
    "\n",
    "trip_daily_normal_df = pd.DataFrame({\"date\":trip_list_date,\n",
    "                  \"normal_temp\":trip_daily_normal_temperature,\n",
    "                  \"daily_min\":trip_daily_min_temperature,\n",
    "                  \"daily_max\":trip_daily_max_temperature,\n",
    "                  \"daily_avg\":trip_daily_avg_temperature,\n",
    "                  })\n",
    "\n",
    "trip_daily_normal_df.set_index(\"date\")"
   ]
  },
  {
   "cell_type": "code",
   "execution_count": 264,
   "metadata": {},
   "outputs": [
    {
     "data": {
      "image/png": "[encoded data removed]",
      "text/plain": [
       "<matplotlib.figure.Figure at 0x19d332e7ef0>"
      ]
     },
     "metadata": {},
     "output_type": "display_data"
    },
    {
     "data": {
      "text/plain": [
       "<matplotlib.figure.Figure at 0x19d32d1d1d0>"
      ]
     },
     "metadata": {},
     "output_type": "display_data"
    }
   ],
   "source": [
    "trip_daily_normal_df.plot(kind='area',stacked=False)\n",
    "plt.figure(figsize = (10,10))\n",
    "plt.show()"
   ]
  }
 ],
 "metadata": {
  "kernelspec": {
   "display_name": "Python [conda env:pythondata]",
   "language": "python",
   "name": "conda-env-pythondata-py"
  },
  "language_info": {
   "codemirror_mode": {
    "name": "ipython",
    "version": 3
   },
   "file_extension": ".py",
   "mimetype": "text/x-python",
   "name": "python",
   "nbconvert_exporter": "python",
   "pygments_lexer": "ipython3",
   "version": "3.6.3"
  }
 },
 "nbformat": 4,
 "nbformat_minor": 2
}
