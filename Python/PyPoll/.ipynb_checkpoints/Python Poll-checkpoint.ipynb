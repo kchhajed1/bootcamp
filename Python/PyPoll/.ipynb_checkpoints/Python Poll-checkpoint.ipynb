{
 "cells": [
  {
   "cell_type": "code",
   "execution_count": 5,
   "metadata": {},
   "outputs": [
    {
     "name": "stdout",
     "output_type": "stream",
     "text": [
      "-------------------------\n",
      "Election Results\n",
      "-------------------------\n",
      "Total Votes: 803000\n",
      "-------------------------\n",
      "Vestal: 48.0% (385440)\n",
      "Torres: 44.0% (353320)\n",
      "Seth: 5.0% (40150)\n",
      "Cordin: 3.0% (24090)\n",
      "-------------------------\n",
      "Winner: Vestal\n",
      "-------------------------\n"
     ]
    }
   ],
   "source": [
    "import csv\n",
    "\n",
    "#Declare total nbr of rows, maximum vote and a dictionary to hold the candidate as the key and nbr or votes received\n",
    "\n",
    "total_nbr_of_rows = 0\n",
    "max_vote = 0\n",
    "all_the_candidates = {}\n",
    "\n",
    "#Assign the file location\n",
    "\n",
    "file = 'raw_data/election_data_1.csv'\n",
    "\n",
    "#for each row returned from the read populate the dictonary with key as the candidate and the nbr of votes received\n",
    "#Do not consider the first row since it has the heading\n",
    "\n",
    "with open (file, newline='',encoding=\"utf8\") as csvfile:\n",
    "    csvread = csv.reader(csvfile, delimiter=',')\n",
    "    \n",
    "    for row in csvread:\n",
    "        total_nbr_of_rows = total_nbr_of_rows + 1\n",
    "        if total_nbr_of_rows != 1:\n",
    "            if row[2] in all_the_candidates:\n",
    "                all_the_candidates[row[2]] = all_the_candidates[row[2]] + 1\n",
    "            else:\n",
    "                all_the_candidates[row[2]] = 1\n",
    "\n",
    "#Assign the outfile location\n",
    "\n",
    "outfile = 'outfile.txt'\n",
    "\n",
    "print(\"-------------------------\")       \n",
    "print(\"Election Results\")\n",
    "print(\"-------------------------\")\n",
    "\n",
    "print (\"Total Votes: \" + str(total_nbr_of_rows - 1))\n",
    "print(\"-------------------------\")\n",
    "\n",
    "#Read the dictionary and determing the maximum value\n",
    "#Wrire the data in the output file and display on the terminal by r\n",
    "\n",
    "with open(outfile,'w') as text:\n",
    "    text.write(\"-------------------------\")\n",
    "    text.write(\"\\nElection Results\")\n",
    "    text.write(\"\\n-------------------------\")\n",
    "    text.write(\"\\nTotal Votes: \" + str(total_nbr_of_rows - 1))\n",
    "    text.write(\"\\n-------------------------\")\n",
    "    \n",
    "    for key, value in all_the_candidates.items():\n",
    "        percentage = round((int(value)/total_nbr_of_rows) * 100,2)\n",
    "        print (str(key) + \": \" + str(percentage) + \"% (\" + str(value) + str(\")\"))\n",
    "        \n",
    "        text.write(\"\\n\" + str(key) + \": \" + str(percentage) + \"% (\" + str(value) + str(\")\"))\n",
    "        \n",
    "        if value > max_vote:\n",
    "            winner = key\n",
    "            max_vote = value\n",
    "    \n",
    "    text.write(\"\\n-------------------------\")\n",
    "    text.write(\"\\nWinner: \" + str(winner))\n",
    "    text.write(\"\\n-------------------------\")\n",
    "    print(\"-------------------------\")\n",
    "    print (\"Winner: \" + str(winner))\n",
    "    print(\"-------------------------\")"
   ]
  },
  {
   "cell_type": "code",
   "execution_count": null,
   "metadata": {
    "collapsed": true
   },
   "outputs": [],
   "source": []
  }
 ],
 "metadata": {
  "kernelspec": {
   "display_name": "Python [conda env:pythondata]",
   "language": "python",
   "name": "conda-env-pythondata-py"
  },
  "language_info": {
   "codemirror_mode": {
    "name": "ipython",
    "version": 3
   },
   "file_extension": ".py",
   "mimetype": "text/x-python",
   "name": "python",
   "nbconvert_exporter": "python",
   "pygments_lexer": "ipython3",
   "version": "3.6.3"
  }
 },
 "nbformat": 4,
 "nbformat_minor": 2
}
