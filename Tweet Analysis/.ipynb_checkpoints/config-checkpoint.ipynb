{
 "cells": [
  {
   "cell_type": "code",
   "execution_count": 3,
   "metadata": {},
   "outputs": [],
   "source": [
    "consumer_key = \"KQuS0kz6dSOjZHMEzae746Clr\"\n",
    "consumer_secret = \"xcgkRsYykneui9QK3ChuFP3SM326LwcVhY1irVkEx3fyEUnmqi\"\n",
    "access_token = \"43288143-XVdl55MEafyv7Q24DKCqxzQIKsDown7Npc7APFaQE\"\n",
    "access_token_secret = \"mdGSccGFvqL56tyFpoJ7QCKZonWifaX4jtrBWS9HXX10Y\"\n",
    "\n",
    "api_key={\"consumer_key\":consumer_key,\n",
    "         \"consumer_secret\":consumer_secret,\n",
    "         \"access_token\":access_token,\n",
    "         \"access_token_secret\":access_token_secret\n",
    "        }"
   ]
  }
 ],
 "metadata": {
  "kernelspec": {
   "display_name": "Python [conda env:pythondata]",
   "language": "python",
   "name": "conda-env-pythondata-py"
  },
  "language_info": {
   "codemirror_mode": {
    "name": "ipython",
    "version": 3
   },
   "file_extension": ".py",
   "mimetype": "text/x-python",
   "name": "python",
   "nbconvert_exporter": "python",
   "pygments_lexer": "ipython3",
   "version": "3.6.3"
  }
 },
 "nbformat": 4,
 "nbformat_minor": 2
}
