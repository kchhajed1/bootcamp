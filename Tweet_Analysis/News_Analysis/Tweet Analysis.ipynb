{
 "cells": [
  {
   "cell_type": "markdown",
   "metadata": {},
   "source": [
    "## Observations\n",
    "\n",
    "##### 1) Tweets from CBS are well received compared to BBC, CNN, Fox News and New York Times\n",
    "##### 2) Tweets from NY Times are most neutral\n",
    "##### 3) Fox News Tweets are not well received by the users"
   ]
  },
  {
   "cell_type": "markdown",
   "metadata": {},
   "source": [
    "#### import Dependencies and the config file. The config file consists of the api key as dictionary for calling Tweepy"
   ]
  },
  {
   "cell_type": "code",
   "execution_count": 9,
   "metadata": {},
   "outputs": [],
   "source": [
    "import tweepy\n",
    "import json\n",
    "import numpy as np\n",
    "import vaderSentiment\n",
    "import pandas as pd\n",
    "import matplotlib.pyplot as plt\n",
    "from config import api_key\n",
    "from datetime import datetime\n",
    "\n",
    "from vaderSentiment.vaderSentiment import SentimentIntensityAnalyzer\n",
    "analyzer = SentimentIntensityAnalyzer()\n",
    "\n",
    "# Setup Tweepy API Authentication\n",
    "\n",
    "auth = tweepy.OAuthHandler(api_key[\"consumer_key\"], api_key[\"consumer_secret\"])\n",
    "auth.set_access_token(api_key[\"access_token\"], api_key[\"access_token_secret\"])\n",
    "api = tweepy.API(auth, parser=tweepy.parsers.JSONParser())"
   ]
  },
  {
   "cell_type": "markdown",
   "metadata": {},
   "source": [
    "#### Define the target users and list for holding sentiments, tweets, timesteamp. Call the api usertimeline to retrieve 100 tweets"
   ]
  },
  {
   "cell_type": "code",
   "execution_count": 10,
   "metadata": {
    "collapsed": true,
    "scrolled": true
   },
   "outputs": [],
   "source": [
    "# Target Search Term\n",
    "target_terms = [\"@BBC\", \"@CBS\", \"@CNN\",\"@FoxNews\", \"@nytimes\"]\n",
    "\n",
    "# Lists for holding sentiments, tweets, timesteamp\n",
    "compound_list = []\n",
    "positive_list = []\n",
    "negative_list = []\n",
    "neutral_list = []\n",
    "converted_time = []\n",
    "tweet_text = []\n",
    "target_list= []\n",
    "count = []\n",
    "tweet_analysis = {}\n",
    "\n",
    "for target_user in target_terms:\n",
    "   \n",
    "    # Get all tweets from home feed\n",
    "    public_tweets = api.user_timeline(target_user,count=100)\n",
    "\n",
    "    for tweet in public_tweets:\n",
    "        analysis=analyzer.polarity_scores(tweet[\"text\"])\n",
    "        compound_list.append(analysis[\"compound\"])\n",
    "        negative_list.append(analysis[\"neg\"])\n",
    "        neutral_list.append(analysis[\"neu\"])\n",
    "        positive_list.append(analysis[\"pos\"])\n",
    "        tweet_text.append(tweet[\"text\"])\n",
    "        target_list.append(target_user)\n",
    "        converted_time.append(datetime.strptime(tweet[\"created_at\"], \"%a %b %d %H:%M:%S %z %Y\"))"
   ]
  },
  {
   "cell_type": "markdown",
   "metadata": {},
   "source": [
    "#### Create a dictionary consisting of user, tweet, timestamp and sentiment values"
   ]
  },
  {
   "cell_type": "code",
   "execution_count": 11,
   "metadata": {
    "collapsed": true
   },
   "outputs": [],
   "source": [
    "tweet_analysis[\"user\"] = target_list\n",
    "tweet_analysis[\"tweet\"] = tweet_text\n",
    "tweet_analysis[\"created_at\"] = converted_time\n",
    "tweet_analysis[\"compound\"] = compound_list\n",
    "tweet_analysis[\"negative\"] = negative_list\n",
    "tweet_analysis[\"positive\"] = positive_list\n",
    "tweet_analysis[\"neutral\"] = neutral_list"
   ]
  },
  {
   "cell_type": "markdown",
   "metadata": {},
   "source": [
    "#### Populate the dictiona in dataframe and sort on TimeStamp, export it to CSV"
   ]
  },
  {
   "cell_type": "code",
   "execution_count": 12,
   "metadata": {},
   "outputs": [
    {
     "data": {
      "text/html": [
       "<div>\n",
       "<style>\n",
       "    .dataframe thead tr:only-child th {\n",
       "        text-align: right;\n",
       "    }\n",
       "\n",
       "    .dataframe thead th {\n",
       "        text-align: left;\n",
       "    }\n",
       "\n",
       "    .dataframe tbody tr th {\n",
       "        vertical-align: top;\n",
       "    }\n",
       "</style>\n",
       "<table border=\"1\" class=\"dataframe\">\n",
       "  <thead>\n",
       "    <tr style=\"text-align: right;\">\n",
       "      <th></th>\n",
       "      <th>user</th>\n",
       "      <th>created_at</th>\n",
       "      <th>tweet</th>\n",
       "      <th>positive</th>\n",
       "      <th>negative</th>\n",
       "      <th>neutral</th>\n",
       "      <th>compound</th>\n",
       "    </tr>\n",
       "  </thead>\n",
       "  <tbody>\n",
       "    <tr>\n",
       "      <th>0</th>\n",
       "      <td>@BBC</td>\n",
       "      <td>2018-03-28 18:00:05+00:00</td>\n",
       "      <td>🇮🇪 This 800-year-old hotel in Ireland is simpl...</td>\n",
       "      <td>0.000</td>\n",
       "      <td>0.000</td>\n",
       "      <td>1.000</td>\n",
       "      <td>0.0000</td>\n",
       "    </tr>\n",
       "    <tr>\n",
       "      <th>1</th>\n",
       "      <td>@BBC</td>\n",
       "      <td>2018-03-28 17:00:12+00:00</td>\n",
       "      <td>📚 'Words do not live in dictionaries. They liv...</td>\n",
       "      <td>0.109</td>\n",
       "      <td>0.000</td>\n",
       "      <td>0.891</td>\n",
       "      <td>0.2960</td>\n",
       "    </tr>\n",
       "    <tr>\n",
       "      <th>2</th>\n",
       "      <td>@BBC</td>\n",
       "      <td>2018-03-28 16:30:00+00:00</td>\n",
       "      <td>The government rates the global outbreak of a ...</td>\n",
       "      <td>0.000</td>\n",
       "      <td>0.312</td>\n",
       "      <td>0.688</td>\n",
       "      <td>-0.8225</td>\n",
       "    </tr>\n",
       "    <tr>\n",
       "      <th>3</th>\n",
       "      <td>@BBC</td>\n",
       "      <td>2018-03-28 16:00:10+00:00</td>\n",
       "      <td>Slacking off in Dubai. https://t.co/a3oSKIxfSK</td>\n",
       "      <td>0.000</td>\n",
       "      <td>0.000</td>\n",
       "      <td>1.000</td>\n",
       "      <td>0.0000</td>\n",
       "    </tr>\n",
       "    <tr>\n",
       "      <th>4</th>\n",
       "      <td>@BBC</td>\n",
       "      <td>2018-03-28 15:35:27+00:00</td>\n",
       "      <td>RT @BBCTheOneShow: The fantastic @george_ezra ...</td>\n",
       "      <td>0.280</td>\n",
       "      <td>0.000</td>\n",
       "      <td>0.720</td>\n",
       "      <td>0.7506</td>\n",
       "    </tr>\n",
       "  </tbody>\n",
       "</table>\n",
       "</div>"
      ],
      "text/plain": [
       "   user                created_at  \\\n",
       "0  @BBC 2018-03-28 18:00:05+00:00   \n",
       "1  @BBC 2018-03-28 17:00:12+00:00   \n",
       "2  @BBC 2018-03-28 16:30:00+00:00   \n",
       "3  @BBC 2018-03-28 16:00:10+00:00   \n",
       "4  @BBC 2018-03-28 15:35:27+00:00   \n",
       "\n",
       "                                               tweet  positive  negative  \\\n",
       "0  🇮🇪 This 800-year-old hotel in Ireland is simpl...     0.000     0.000   \n",
       "1  📚 'Words do not live in dictionaries. They liv...     0.109     0.000   \n",
       "2  The government rates the global outbreak of a ...     0.000     0.312   \n",
       "3     Slacking off in Dubai. https://t.co/a3oSKIxfSK     0.000     0.000   \n",
       "4  RT @BBCTheOneShow: The fantastic @george_ezra ...     0.280     0.000   \n",
       "\n",
       "   neutral  compound  \n",
       "0    1.000    0.0000  \n",
       "1    0.891    0.2960  \n",
       "2    0.688   -0.8225  \n",
       "3    1.000    0.0000  \n",
       "4    0.720    0.7506  "
      ]
     },
     "execution_count": 12,
     "metadata": {},
     "output_type": "execute_result"
    }
   ],
   "source": [
    "final_tweet_analysis=pd.DataFrame(tweet_analysis)\n",
    "final_tweet_analysis = final_tweet_analysis.sort_values([\"user\",\"created_at\"],ascending=[True, False])\n",
    "final_tweet_analysis = final_tweet_analysis[[\"user\",\"created_at\",\"tweet\",\"positive\",\"negative\",\"neutral\",\"compound\"]]\n",
    "\n",
    "final_tweet_analysis.to_csv('final tweet analysis.csv', sep=',')\n",
    "\n",
    "\n",
    "final_tweet_analysis.head()"
   ]
  },
  {
   "cell_type": "markdown",
   "metadata": {},
   "source": [
    "#### Create a dataframe for each user and count for the last 100 tweets\n"
   ]
  },
  {
   "cell_type": "code",
   "execution_count": 13,
   "metadata": {
    "collapsed": true
   },
   "outputs": [],
   "source": [
    "\n",
    "bbc_df = final_tweet_analysis[final_tweet_analysis[\"user\"] == \"@BBC\"]\n",
    "cbs_df = final_tweet_analysis[final_tweet_analysis[\"user\"] == \"@CBS\"]\n",
    "cnn_df = final_tweet_analysis[final_tweet_analysis[\"user\"] == \"@CNN\"]\n",
    "fox_df = final_tweet_analysis[final_tweet_analysis[\"user\"] == \"@FoxNews\"]\n",
    "ny_df = final_tweet_analysis[final_tweet_analysis[\"user\"] == \"@nytimes\"]\n",
    "\n",
    "count = [count for count in range(100)]\n"
   ]
  },
  {
   "cell_type": "markdown",
   "metadata": {},
   "source": [
    "#### Scatter plot for Sentiment Analysis of Tweets"
   ]
  },
  {
   "cell_type": "code",
   "execution_count": 14,
   "metadata": {},
   "outputs": [
    {
     "data": {
      "image/png": "[encoded data removed]",
      "text/plain": [
       "<matplotlib.figure.Figure at 0x1f62c5496a0>"
      ]
     },
     "metadata": {},
     "output_type": "display_data"
    }
   ],
   "source": [
    "#Scatter plot for Urban\n",
    "\n",
    "plt.scatter(count, bbc_df[\"compound\"], \n",
    "            marker=\"o\", facecolors=\"skyblue\", edgecolors=\"black\", alpha=0.75,\n",
    "           label = \"BBC\")\n",
    "\n",
    "plt.scatter(count, cbs_df[\"compound\"], \n",
    "            marker=\"o\", facecolors=\"green\", edgecolors=\"black\", alpha=0.75,\n",
    "           label = \"CBS\")\n",
    "\n",
    "plt.scatter(count, cnn_df[\"compound\"], \n",
    "            marker=\"o\", facecolors=\"red\", edgecolors=\"black\", alpha=0.75,\n",
    "           label = \"CNN\")\n",
    "\n",
    "plt.scatter(count, fox_df[\"compound\"], \n",
    "            marker=\"o\", facecolors=\"red\", edgecolors=\"black\", alpha=0.75,\n",
    "           label = \"Fox\")\n",
    "\n",
    "plt.scatter(count, ny_df[\"compound\"], \n",
    "            marker=\"o\", facecolors=\"yellow\", edgecolors=\"black\", alpha=0.75,\n",
    "           label = \"New York Times\")\n",
    "\n",
    "plt.xlim(105,-5)\n",
    "plt.xlabel(\"Tweets Ago\")\n",
    "plt.ylabel(\"Tweet Polarity\")\n",
    "plt.title(\"Sentiment Analysis of Tweets (03/28/2018)\")\n",
    "plt.legend(loc='center left', bbox_to_anchor=(1,0.82))\n",
    "plt.grid()\n",
    "plt.savefig(\"sentiment_analysis_tweet.png\",bbox_inches='tight')\n",
    "plt.show()"
   ]
  },
  {
   "cell_type": "markdown",
   "metadata": {},
   "source": [
    "#### Bar Chart Overall Media Sentiment based on Twitter"
   ]
  },
  {
   "cell_type": "code",
   "execution_count": 15,
   "metadata": {},
   "outputs": [
    {
     "data": {
      "image/png": "[encoded data removed]",
      "text/plain": [
       "<matplotlib.figure.Figure at 0x1f62c70acc0>"
      ]
     },
     "metadata": {},
     "output_type": "display_data"
    }
   ],
   "source": [
    "mean_compoud = []\n",
    "\n",
    "mean_compoud.append(round(bbc_df[\"compound\"].mean(),2))\n",
    "mean_compoud.append(round(cbs_df[\"compound\"].mean(),2))\n",
    "mean_compoud.append(round(cnn_df[\"compound\"].mean(),2))\n",
    "mean_compoud.append(round(fox_df[\"compound\"].mean(),2))\n",
    "mean_compoud.append(round(ny_df[\"compound\"].mean(),2))\n",
    "\n",
    "target_terms = [\"BBC\", \"CBS\", \"CNN\",\"Fox\", \"NYT\"]\n",
    "colors=[\"skyblue\",\"green\",\"red\",\"blue\",\"yellow\"]\n",
    "\n",
    "plt.bar(target_terms, mean_compoud, color=colors, align=\"center\")\n",
    "\n",
    "plt.ylim(-0.20, 0.4)\n",
    "plt.xlabel(\"Target User\")\n",
    "plt.ylabel(\"Tweet Polarity\")\n",
    "plt.title(\"Overall Media Sentiment based on Twitter (03/28/2018)\")\n",
    "plt.savefig(\"overall_sentiment_analysis_tweet.png\",bbox_inches='tight')\n",
    "plt.axhline(0, color='black', lw=1)\n",
    "plt.show()"
   ]
  }
 ],
 "metadata": {
  "kernelspec": {
   "display_name": "Python [conda env:pythondata]",
   "language": "python",
   "name": "conda-env-pythondata-py"
  },
  "language_info": {
   "codemirror_mode": {
    "name": "ipython",
    "version": 3
   },
   "file_extension": ".py",
   "mimetype": "text/x-python",
   "name": "python",
   "nbconvert_exporter": "python",
   "pygments_lexer": "ipython3",
   "version": "3.6.3"
  }
 },
 "nbformat": 4,
 "nbformat_minor": 2
}
